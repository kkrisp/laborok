{
 "cells": [
  {
   "cell_type": "code",
   "execution_count": 1,
   "metadata": {},
   "outputs": [
    {
     "name": "stdout",
     "output_type": "stream",
     "text": [
      "Populating the interactive namespace from numpy and matplotlib\n"
     ]
    }
   ],
   "source": [
    "%pylab inline\n",
    "import math"
   ]
  },
  {
   "cell_type": "code",
   "execution_count": 3,
   "metadata": {},
   "outputs": [
    {
     "name": "stdout",
     "output_type": "stream",
     "text": [
      "n\tsugár\tt_esés\tt_elmelk.\n",
      "------------------------------\n",
      "0.\t0.742\t37.06\t16.73\n",
      "1.\t0.327\t95.47\t12.75\n",
      "2.\t0.344\t128.90\t9.68\n",
      "3.\t0.485\t65.10\t22.31\n",
      "4.\t0.508\t59.19\t25.94\n",
      "5.\t0.498\t61.62\t26.22\n",
      "6.\t0.517\t47.72\t25.43\n",
      "7.\t0.864\t20.50\t7.68\n",
      "8.\t0.494\t62.75\t19.25\n",
      "9.\t0.603\t42.00\t14.82\n",
      "10.\t0.508\t39.48\t18.63\n",
      "11.\t0.505\t60.08\t25.91\n",
      "12.\t0.795\t24.20\t27.40\n",
      "13.\t0.678\t33.25\t56.90\n",
      "14.\t0.770\t34.35\t10.81\n",
      "15.\t0.701\t31.10\t15.32\n",
      "16.\t0.695\t31.62\t21.17\n",
      "17.\t0.542\t52.13\t23.96\n",
      "18.\t0.542\t52.03\t22.53\n",
      "19.\t0.542\t52.06\t23.52\n",
      "20.\t0.757\t35.54\t9.28\n",
      "21.\t0.702\t31.06\t15.86\n",
      "22.\t0.501\t60.94\t15.34\n",
      "23.\t0.505\t59.97\t26.32\n",
      "24.\t0.588\t44.22\t8.82\n",
      "25.\t0.441\t78.68\t14.59\n"
     ]
    }
   ],
   "source": [
    "# allandok\n",
    "scu = 5.333*10**(-5) # m, skalaegyseg\n",
    "\n",
    "d = 6*10**(-3) # m\n",
    "ro_o = 875 # kg/m^3 olaj surusege\n",
    "ro_l = 1.29 # kg/m^3 levego surusege\n",
    "\n",
    "eta_0 = 1.708*10**(-5) #Pa*s\n",
    "C = 113 # K\n",
    "T_0 = 273 # K\n",
    "g = 9.80665 # m/s^2\n",
    "\n",
    "K = 8.26*10**(-3) # Pa*m\n",
    "\n",
    "# kiserlet korulmenyei\n",
    "T = 296 # K\n",
    "p = 1016*100 # Pa, 1016hPa\n",
    "\n",
    "# levego viszkozitasa korrigalva\n",
    "eta = eta_0*sqrt(T/T_0)*(1+C/T_0)/(1+C/T)\n",
    "\n",
    "# mert adatok\n",
    "# tererosseg nelkul\n",
    "t_0 = [] # sec\n",
    "s_0 = [] # beosztas\n",
    "# tererosseg mellett\n",
    "U = [] # V, tererosseg\n",
    "t_E = []  # sec\n",
    "s_E = []  # beosztas\n",
    "\n",
    "# mert adatok feltoltese\n",
    "adatok = loadtxt(\"csepp_adatok.txt\", skiprows=1)\n",
    "\n",
    "for sor in adatok:\n",
    "    s_0.append(sor[0])\n",
    "    t_0.append(sor[1])\n",
    "    U.append(sor[2])\n",
    "    s_E.append(sor[3])\n",
    "    t_E.append(sor[4])\n",
    "\n",
    "#skala atszamitasa m-be\n",
    "s_0 = [s*scu*10 for s in s_0] # 10 egyseg egy nagy egyseg\n",
    "s_E = [s*scu*10 for s in s_E]\n",
    "\n",
    "# sebessegek...\n",
    "v_0 = [s/t for s, t in zip(s_0, t_0)]\n",
    "v_E = [s/t for s, t in zip(s_E, t_E)]\n",
    "\n",
    "# sugarak kiszamitasa\n",
    "def sugaratSzamol (v) :\n",
    "    return sqrt(9*eta*v/ (2*(ro_o - ro_l)*g))\n",
    "r = [sugaratSzamol(v) for v in v_0]\n",
    "\n",
    "#kiiratas\n",
    "print(\"n\\tsugár\\tt_esés\\tt_elmelk.\");\n",
    "print(\"------------------------------\");\n",
    "for i in range(len(r)):\n",
    "    print(\"%d.\\t%.3f\\t%.2f\\t%.2f\"% (i, r[i]*10**6, t_0[i], t_E[i])); # mikrometerben kiirt meret"
   ]
  },
  {
   "cell_type": "code",
   "execution_count": 10,
   "metadata": {},
   "outputs": [
    {
     "name": "stdout",
     "output_type": "stream",
     "text": [
      "n\ttöltés\tt_esés\tt_elmelk.\n",
      "------------------------------\n",
      "1.\t-1.734\t37.06\t16.73\n",
      "2.\t2.379\t95.47\t12.75\n",
      "3.\t2.693\t128.90\t9.68\n",
      "4.\t2.115\t65.10\t22.31\n",
      "5.\t2.041\t59.19\t25.94\n",
      "6.\t1.959\t61.62\t26.22\n",
      "7.\t2.128\t47.72\t25.43\n",
      "8.\t9.506\t20.50\t7.68\n",
      "9.\t1.960\t62.75\t19.25\n",
      "10.\t4.081\t42.00\t14.82\n",
      "11.\t2.105\t39.48\t18.63\n",
      "12.\t2.022\t60.08\t25.91\n",
      "13.\t3.889\t24.20\t27.40\n",
      "14.\t2.040\t33.25\t56.90\n",
      "15.\t7.646\t34.35\t10.81\n",
      "16.\t4.178\t31.10\t15.32\n",
      "17.\t4.031\t31.62\t21.17\n",
      "18.\t1.979\t52.13\t23.96\n",
      "19.\t2.056\t52.03\t22.53\n",
      "20.\t1.997\t52.06\t23.52\n",
      "21.\t8.311\t35.54\t9.28\n",
      "22.\t4.091\t31.06\t15.86\n",
      "23.\t2.392\t60.94\t15.34\n",
      "24.\t2.006\t59.97\t26.32\n",
      "25.\t6.044\t44.22\t8.82\n",
      "26.\t2.053\t78.68\t14.59\n"
     ]
    }
   ],
   "source": [
    "# toltes meghatarozasa\n",
    "q = [0]*len(r) # megfelelo hosszusagu ures tomb\n",
    "\n",
    "for i in range(len(r)):\n",
    "    # korrigalt surlodasi ero\n",
    "    F_surl_korr = 6*pi*eta*r[i]*v_E[i]/(1+K/(p*r[i]))\n",
    "    # felhajtoero es gravitacios ero\n",
    "    F_fel_grav = 4/3*pi*r[i]**3*(ro_o-ro_l)*g\n",
    "    \n",
    "    q[i] = (d/U[i])*(F_surl_korr+F_fel_grav)\n",
    "\n",
    "#kiiratas\n",
    "print(\"n\\ttöltés\\tt_esés\\tt_elmelk.\");\n",
    "print(\"------------------------------\");\n",
    "for i in range(len(q)):\n",
    "    print(\"%d.\\t%.3f\\t%.2f\\t%.2f\"% (i+1, q[i]*10**19, t_0[i], t_E[i])); # 10^19C-ban kiirt toltes"
   ]
  },
  {
   "cell_type": "code",
   "execution_count": null,
   "metadata": {},
   "outputs": [],
   "source": []
  }
 ],
 "metadata": {
  "kernelspec": {
   "display_name": "Python 3",
   "language": "python",
   "name": "python3"
  },
  "language_info": {
   "codemirror_mode": {
    "name": "ipython",
    "version": 3
   },
   "file_extension": ".py",
   "mimetype": "text/x-python",
   "name": "python",
   "nbconvert_exporter": "python",
   "pygments_lexer": "ipython3",
   "version": "3.6.3"
  }
 },
 "nbformat": 4,
 "nbformat_minor": 2
}
